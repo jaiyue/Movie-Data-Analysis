{
  "nbformat": 4,
  "nbformat_minor": 0,
  "metadata": {
    "colab": {
      "provenance": [],
      "authorship_tag": "ABX9TyM2B8U1IZinewPW2NjhBRYO",
      "include_colab_link": true
    },
    "kernelspec": {
      "name": "python3",
      "display_name": "Python 3"
    },
    "language_info": {
      "name": "python"
    }
  },
  "cells": [
    {
      "cell_type": "markdown",
      "metadata": {
        "id": "view-in-github",
        "colab_type": "text"
      },
      "source": [
        "<a href=\"https://colab.research.google.com/github/jaiyue/Movie-Data-Analysis/blob/main/Movie_analysis.ipynb\" target=\"_parent\"><img src=\"https://colab.research.google.com/assets/colab-badge.svg\" alt=\"Open In Colab\"/></a>"
      ]
    },
    {
      "cell_type": "markdown",
      "source": [
        "Remove the movie dataset to ensure the next download succeeds"
      ],
      "metadata": {
        "id": "PfSWnyNIFHxQ"
      }
    },
    {
      "cell_type": "code",
      "source": [
        "!rm -r the-movies-dataset"
      ],
      "metadata": {
        "id": "tVYYjl-GE1sR"
      },
      "execution_count": 13,
      "outputs": []
    },
    {
      "cell_type": "markdown",
      "source": [
        "import every tool"
      ],
      "metadata": {
        "id": "uhEasflIFnRK"
      }
    },
    {
      "cell_type": "code",
      "source": [
        "!pip install opendatasets\n",
        "import opendatasets as od\n",
        "import pandas as pd\n",
        "import numpy as np\n",
        "import matplotlib.pyplot as plt\n",
        "%matplotlib inline\n",
        "import seaborn as sns\n",
        "import ast, json"
      ],
      "metadata": {
        "colab": {
          "base_uri": "https://localhost:8080/"
        },
        "id": "Y4gvukxPCR7W",
        "outputId": "427185d3-8eea-43a9-fabb-f0f062abb7b6"
      },
      "execution_count": 14,
      "outputs": [
        {
          "output_type": "stream",
          "name": "stdout",
          "text": [
            "Requirement already satisfied: opendatasets in /usr/local/lib/python3.12/dist-packages (0.1.22)\n",
            "Requirement already satisfied: tqdm in /usr/local/lib/python3.12/dist-packages (from opendatasets) (4.67.1)\n",
            "Requirement already satisfied: kaggle in /usr/local/lib/python3.12/dist-packages (from opendatasets) (1.7.4.5)\n",
            "Requirement already satisfied: click in /usr/local/lib/python3.12/dist-packages (from opendatasets) (8.3.0)\n",
            "Requirement already satisfied: bleach in /usr/local/lib/python3.12/dist-packages (from kaggle->opendatasets) (6.2.0)\n",
            "Requirement already satisfied: certifi>=14.05.14 in /usr/local/lib/python3.12/dist-packages (from kaggle->opendatasets) (2025.8.3)\n",
            "Requirement already satisfied: charset-normalizer in /usr/local/lib/python3.12/dist-packages (from kaggle->opendatasets) (3.4.3)\n",
            "Requirement already satisfied: idna in /usr/local/lib/python3.12/dist-packages (from kaggle->opendatasets) (3.10)\n",
            "Requirement already satisfied: protobuf in /usr/local/lib/python3.12/dist-packages (from kaggle->opendatasets) (5.29.5)\n",
            "Requirement already satisfied: python-dateutil>=2.5.3 in /usr/local/lib/python3.12/dist-packages (from kaggle->opendatasets) (2.9.0.post0)\n",
            "Requirement already satisfied: python-slugify in /usr/local/lib/python3.12/dist-packages (from kaggle->opendatasets) (8.0.4)\n",
            "Requirement already satisfied: requests in /usr/local/lib/python3.12/dist-packages (from kaggle->opendatasets) (2.32.4)\n",
            "Requirement already satisfied: setuptools>=21.0.0 in /usr/local/lib/python3.12/dist-packages (from kaggle->opendatasets) (75.2.0)\n",
            "Requirement already satisfied: six>=1.10 in /usr/local/lib/python3.12/dist-packages (from kaggle->opendatasets) (1.17.0)\n",
            "Requirement already satisfied: text-unidecode in /usr/local/lib/python3.12/dist-packages (from kaggle->opendatasets) (1.3)\n",
            "Requirement already satisfied: urllib3>=1.15.1 in /usr/local/lib/python3.12/dist-packages (from kaggle->opendatasets) (2.5.0)\n",
            "Requirement already satisfied: webencodings in /usr/local/lib/python3.12/dist-packages (from kaggle->opendatasets) (0.5.1)\n"
          ]
        }
      ]
    },
    {
      "cell_type": "markdown",
      "source": [
        "upload kaggle.json file to download dataset"
      ],
      "metadata": {
        "id": "F583wDZP3LQb"
      }
    },
    {
      "cell_type": "code",
      "source": [
        "from google.colab import files\n",
        "files.upload()"
      ],
      "metadata": {
        "colab": {
          "base_uri": "https://localhost:8080/",
          "height": 92
        },
        "id": "AvrdcE0F63LZ",
        "outputId": "d62d155c-7461-48fd-eed9-417388b98ec4"
      },
      "execution_count": 15,
      "outputs": [
        {
          "output_type": "display_data",
          "data": {
            "text/plain": [
              "<IPython.core.display.HTML object>"
            ],
            "text/html": [
              "\n",
              "     <input type=\"file\" id=\"files-75a8c434-20d6-4abc-bc49-a5b5a1969a72\" name=\"files[]\" multiple disabled\n",
              "        style=\"border:none\" />\n",
              "     <output id=\"result-75a8c434-20d6-4abc-bc49-a5b5a1969a72\">\n",
              "      Upload widget is only available when the cell has been executed in the\n",
              "      current browser session. Please rerun this cell to enable.\n",
              "      </output>\n",
              "      <script>// Copyright 2017 Google LLC\n",
              "//\n",
              "// Licensed under the Apache License, Version 2.0 (the \"License\");\n",
              "// you may not use this file except in compliance with the License.\n",
              "// You may obtain a copy of the License at\n",
              "//\n",
              "//      http://www.apache.org/licenses/LICENSE-2.0\n",
              "//\n",
              "// Unless required by applicable law or agreed to in writing, software\n",
              "// distributed under the License is distributed on an \"AS IS\" BASIS,\n",
              "// WITHOUT WARRANTIES OR CONDITIONS OF ANY KIND, either express or implied.\n",
              "// See the License for the specific language governing permissions and\n",
              "// limitations under the License.\n",
              "\n",
              "/**\n",
              " * @fileoverview Helpers for google.colab Python module.\n",
              " */\n",
              "(function(scope) {\n",
              "function span(text, styleAttributes = {}) {\n",
              "  const element = document.createElement('span');\n",
              "  element.textContent = text;\n",
              "  for (const key of Object.keys(styleAttributes)) {\n",
              "    element.style[key] = styleAttributes[key];\n",
              "  }\n",
              "  return element;\n",
              "}\n",
              "\n",
              "// Max number of bytes which will be uploaded at a time.\n",
              "const MAX_PAYLOAD_SIZE = 100 * 1024;\n",
              "\n",
              "function _uploadFiles(inputId, outputId) {\n",
              "  const steps = uploadFilesStep(inputId, outputId);\n",
              "  const outputElement = document.getElementById(outputId);\n",
              "  // Cache steps on the outputElement to make it available for the next call\n",
              "  // to uploadFilesContinue from Python.\n",
              "  outputElement.steps = steps;\n",
              "\n",
              "  return _uploadFilesContinue(outputId);\n",
              "}\n",
              "\n",
              "// This is roughly an async generator (not supported in the browser yet),\n",
              "// where there are multiple asynchronous steps and the Python side is going\n",
              "// to poll for completion of each step.\n",
              "// This uses a Promise to block the python side on completion of each step,\n",
              "// then passes the result of the previous step as the input to the next step.\n",
              "function _uploadFilesContinue(outputId) {\n",
              "  const outputElement = document.getElementById(outputId);\n",
              "  const steps = outputElement.steps;\n",
              "\n",
              "  const next = steps.next(outputElement.lastPromiseValue);\n",
              "  return Promise.resolve(next.value.promise).then((value) => {\n",
              "    // Cache the last promise value to make it available to the next\n",
              "    // step of the generator.\n",
              "    outputElement.lastPromiseValue = value;\n",
              "    return next.value.response;\n",
              "  });\n",
              "}\n",
              "\n",
              "/**\n",
              " * Generator function which is called between each async step of the upload\n",
              " * process.\n",
              " * @param {string} inputId Element ID of the input file picker element.\n",
              " * @param {string} outputId Element ID of the output display.\n",
              " * @return {!Iterable<!Object>} Iterable of next steps.\n",
              " */\n",
              "function* uploadFilesStep(inputId, outputId) {\n",
              "  const inputElement = document.getElementById(inputId);\n",
              "  inputElement.disabled = false;\n",
              "\n",
              "  const outputElement = document.getElementById(outputId);\n",
              "  outputElement.innerHTML = '';\n",
              "\n",
              "  const pickedPromise = new Promise((resolve) => {\n",
              "    inputElement.addEventListener('change', (e) => {\n",
              "      resolve(e.target.files);\n",
              "    });\n",
              "  });\n",
              "\n",
              "  const cancel = document.createElement('button');\n",
              "  inputElement.parentElement.appendChild(cancel);\n",
              "  cancel.textContent = 'Cancel upload';\n",
              "  const cancelPromise = new Promise((resolve) => {\n",
              "    cancel.onclick = () => {\n",
              "      resolve(null);\n",
              "    };\n",
              "  });\n",
              "\n",
              "  // Wait for the user to pick the files.\n",
              "  const files = yield {\n",
              "    promise: Promise.race([pickedPromise, cancelPromise]),\n",
              "    response: {\n",
              "      action: 'starting',\n",
              "    }\n",
              "  };\n",
              "\n",
              "  cancel.remove();\n",
              "\n",
              "  // Disable the input element since further picks are not allowed.\n",
              "  inputElement.disabled = true;\n",
              "\n",
              "  if (!files) {\n",
              "    return {\n",
              "      response: {\n",
              "        action: 'complete',\n",
              "      }\n",
              "    };\n",
              "  }\n",
              "\n",
              "  for (const file of files) {\n",
              "    const li = document.createElement('li');\n",
              "    li.append(span(file.name, {fontWeight: 'bold'}));\n",
              "    li.append(span(\n",
              "        `(${file.type || 'n/a'}) - ${file.size} bytes, ` +\n",
              "        `last modified: ${\n",
              "            file.lastModifiedDate ? file.lastModifiedDate.toLocaleDateString() :\n",
              "                                    'n/a'} - `));\n",
              "    const percent = span('0% done');\n",
              "    li.appendChild(percent);\n",
              "\n",
              "    outputElement.appendChild(li);\n",
              "\n",
              "    const fileDataPromise = new Promise((resolve) => {\n",
              "      const reader = new FileReader();\n",
              "      reader.onload = (e) => {\n",
              "        resolve(e.target.result);\n",
              "      };\n",
              "      reader.readAsArrayBuffer(file);\n",
              "    });\n",
              "    // Wait for the data to be ready.\n",
              "    let fileData = yield {\n",
              "      promise: fileDataPromise,\n",
              "      response: {\n",
              "        action: 'continue',\n",
              "      }\n",
              "    };\n",
              "\n",
              "    // Use a chunked sending to avoid message size limits. See b/62115660.\n",
              "    let position = 0;\n",
              "    do {\n",
              "      const length = Math.min(fileData.byteLength - position, MAX_PAYLOAD_SIZE);\n",
              "      const chunk = new Uint8Array(fileData, position, length);\n",
              "      position += length;\n",
              "\n",
              "      const base64 = btoa(String.fromCharCode.apply(null, chunk));\n",
              "      yield {\n",
              "        response: {\n",
              "          action: 'append',\n",
              "          file: file.name,\n",
              "          data: base64,\n",
              "        },\n",
              "      };\n",
              "\n",
              "      let percentDone = fileData.byteLength === 0 ?\n",
              "          100 :\n",
              "          Math.round((position / fileData.byteLength) * 100);\n",
              "      percent.textContent = `${percentDone}% done`;\n",
              "\n",
              "    } while (position < fileData.byteLength);\n",
              "  }\n",
              "\n",
              "  // All done.\n",
              "  yield {\n",
              "    response: {\n",
              "      action: 'complete',\n",
              "    }\n",
              "  };\n",
              "}\n",
              "\n",
              "scope.google = scope.google || {};\n",
              "scope.google.colab = scope.google.colab || {};\n",
              "scope.google.colab._files = {\n",
              "  _uploadFiles,\n",
              "  _uploadFilesContinue,\n",
              "};\n",
              "})(self);\n",
              "</script> "
            ]
          },
          "metadata": {}
        },
        {
          "output_type": "stream",
          "name": "stdout",
          "text": [
            "Saving kaggle.json to kaggle (1).json\n"
          ]
        },
        {
          "output_type": "execute_result",
          "data": {
            "text/plain": [
              "{'kaggle (1).json': b'{\"username\":\"hailingcai\",\"key\":\"3581232c04d8591ebaeedf74bd3de296\"}'}"
            ]
          },
          "metadata": {},
          "execution_count": 15
        }
      ]
    },
    {
      "cell_type": "code",
      "execution_count": 16,
      "metadata": {
        "colab": {
          "base_uri": "https://localhost:8080/"
        },
        "id": "uY4S78EbCC_h",
        "outputId": "c197f078-9a1a-4ec1-eb87-a50d2ac7b463"
      },
      "outputs": [
        {
          "output_type": "stream",
          "name": "stdout",
          "text": [
            "Dataset URL: https://www.kaggle.com/datasets/rounakbanik/the-movies-dataset\n",
            "Downloading the-movies-dataset.zip to ./the-movies-dataset\n"
          ]
        },
        {
          "output_type": "stream",
          "name": "stderr",
          "text": [
            "100%|██████████| 228M/228M [00:00<00:00, 477MB/s]\n"
          ]
        },
        {
          "output_type": "stream",
          "name": "stdout",
          "text": [
            "\n"
          ]
        }
      ],
      "source": [
        "od.download('https://www.kaggle.com/datasets/rounakbanik/the-movies-dataset')"
      ]
    },
    {
      "cell_type": "code",
      "source": [
        "!ls /content/the-movies-dataset"
      ],
      "metadata": {
        "colab": {
          "base_uri": "https://localhost:8080/"
        },
        "id": "8TW7Xc59C1DX",
        "outputId": "2ab9533b-3d5d-4f87-8fe5-ae0f525c76a6"
      },
      "execution_count": 17,
      "outputs": [
        {
          "output_type": "stream",
          "name": "stdout",
          "text": [
            "credits.csv   links.csv        movies_metadata.csv  ratings_small.csv\n",
            "keywords.csv  links_small.csv  ratings.csv\n"
          ]
        }
      ]
    },
    {
      "cell_type": "code",
      "source": [
        "movies = pd.read_csv('/content/the-movies-dataset/movies_metadata.csv', low_memory=False)\n",
        "ratings = pd.read_csv('/content/the-movies-dataset/ratings_small.csv')\n",
        "credits = pd.read_csv('/content/the-movies-dataset/credits.csv')\n",
        "keywords = pd.read_csv('/content/the-movies-dataset/keywords.csv')"
      ],
      "metadata": {
        "id": "5MednuGD2Y8c"
      },
      "execution_count": 18,
      "outputs": []
    },
    {
      "cell_type": "markdown",
      "source": [
        "check data structue and the top 5 row"
      ],
      "metadata": {
        "id": "3rN3deQ4I1Qx"
      }
    },
    {
      "cell_type": "code",
      "source": [
        "print(movies.head())\n",
        "print(movies.info())\n",
        "print(ratings.head())\n",
        "print(credits.head())\n",
        "print(keywords.head())"
      ],
      "metadata": {
        "colab": {
          "base_uri": "https://localhost:8080/"
        },
        "id": "YC6TiYi23gwN",
        "outputId": "672ab905-4aaa-4a97-c604-cb3c133175ee"
      },
      "execution_count": 19,
      "outputs": [
        {
          "output_type": "stream",
          "name": "stdout",
          "text": [
            "   adult                              belongs_to_collection    budget  \\\n",
            "0  False  {'id': 10194, 'name': 'Toy Story Collection', ...  30000000   \n",
            "1  False                                                NaN  65000000   \n",
            "2  False  {'id': 119050, 'name': 'Grumpy Old Men Collect...         0   \n",
            "3  False                                                NaN  16000000   \n",
            "4  False  {'id': 96871, 'name': 'Father of the Bride Col...         0   \n",
            "\n",
            "                                              genres  \\\n",
            "0  [{'id': 16, 'name': 'Animation'}, {'id': 35, '...   \n",
            "1  [{'id': 12, 'name': 'Adventure'}, {'id': 14, '...   \n",
            "2  [{'id': 10749, 'name': 'Romance'}, {'id': 35, ...   \n",
            "3  [{'id': 35, 'name': 'Comedy'}, {'id': 18, 'nam...   \n",
            "4                     [{'id': 35, 'name': 'Comedy'}]   \n",
            "\n",
            "                               homepage     id    imdb_id original_language  \\\n",
            "0  http://toystory.disney.com/toy-story    862  tt0114709                en   \n",
            "1                                   NaN   8844  tt0113497                en   \n",
            "2                                   NaN  15602  tt0113228                en   \n",
            "3                                   NaN  31357  tt0114885                en   \n",
            "4                                   NaN  11862  tt0113041                en   \n",
            "\n",
            "                original_title  \\\n",
            "0                    Toy Story   \n",
            "1                      Jumanji   \n",
            "2             Grumpier Old Men   \n",
            "3            Waiting to Exhale   \n",
            "4  Father of the Bride Part II   \n",
            "\n",
            "                                            overview  ... release_date  \\\n",
            "0  Led by Woody, Andy's toys live happily in his ...  ...   1995-10-30   \n",
            "1  When siblings Judy and Peter discover an encha...  ...   1995-12-15   \n",
            "2  A family wedding reignites the ancient feud be...  ...   1995-12-22   \n",
            "3  Cheated on, mistreated and stepped on, the wom...  ...   1995-12-22   \n",
            "4  Just when George Banks has recovered from his ...  ...   1995-02-10   \n",
            "\n",
            "       revenue runtime                                   spoken_languages  \\\n",
            "0  373554033.0    81.0           [{'iso_639_1': 'en', 'name': 'English'}]   \n",
            "1  262797249.0   104.0  [{'iso_639_1': 'en', 'name': 'English'}, {'iso...   \n",
            "2          0.0   101.0           [{'iso_639_1': 'en', 'name': 'English'}]   \n",
            "3   81452156.0   127.0           [{'iso_639_1': 'en', 'name': 'English'}]   \n",
            "4   76578911.0   106.0           [{'iso_639_1': 'en', 'name': 'English'}]   \n",
            "\n",
            "     status                                            tagline  \\\n",
            "0  Released                                                NaN   \n",
            "1  Released          Roll the dice and unleash the excitement!   \n",
            "2  Released  Still Yelling. Still Fighting. Still Ready for...   \n",
            "3  Released  Friends are the people who let you be yourself...   \n",
            "4  Released  Just When His World Is Back To Normal... He's ...   \n",
            "\n",
            "                         title  video vote_average vote_count  \n",
            "0                    Toy Story  False          7.7     5415.0  \n",
            "1                      Jumanji  False          6.9     2413.0  \n",
            "2             Grumpier Old Men  False          6.5       92.0  \n",
            "3            Waiting to Exhale  False          6.1       34.0  \n",
            "4  Father of the Bride Part II  False          5.7      173.0  \n",
            "\n",
            "[5 rows x 24 columns]\n",
            "<class 'pandas.core.frame.DataFrame'>\n",
            "RangeIndex: 45466 entries, 0 to 45465\n",
            "Data columns (total 24 columns):\n",
            " #   Column                 Non-Null Count  Dtype  \n",
            "---  ------                 --------------  -----  \n",
            " 0   adult                  45466 non-null  object \n",
            " 1   belongs_to_collection  4494 non-null   object \n",
            " 2   budget                 45466 non-null  object \n",
            " 3   genres                 45466 non-null  object \n",
            " 4   homepage               7782 non-null   object \n",
            " 5   id                     45466 non-null  object \n",
            " 6   imdb_id                45449 non-null  object \n",
            " 7   original_language      45455 non-null  object \n",
            " 8   original_title         45466 non-null  object \n",
            " 9   overview               44512 non-null  object \n",
            " 10  popularity             45461 non-null  object \n",
            " 11  poster_path            45080 non-null  object \n",
            " 12  production_companies   45463 non-null  object \n",
            " 13  production_countries   45463 non-null  object \n",
            " 14  release_date           45379 non-null  object \n",
            " 15  revenue                45460 non-null  float64\n",
            " 16  runtime                45203 non-null  float64\n",
            " 17  spoken_languages       45460 non-null  object \n",
            " 18  status                 45379 non-null  object \n",
            " 19  tagline                20412 non-null  object \n",
            " 20  title                  45460 non-null  object \n",
            " 21  video                  45460 non-null  object \n",
            " 22  vote_average           45460 non-null  float64\n",
            " 23  vote_count             45460 non-null  float64\n",
            "dtypes: float64(4), object(20)\n",
            "memory usage: 8.3+ MB\n",
            "None\n",
            "   userId  movieId  rating   timestamp\n",
            "0       1       31     2.5  1260759144\n",
            "1       1     1029     3.0  1260759179\n",
            "2       1     1061     3.0  1260759182\n",
            "3       1     1129     2.0  1260759185\n",
            "4       1     1172     4.0  1260759205\n",
            "                                                cast  \\\n",
            "0  [{'cast_id': 14, 'character': 'Woody (voice)',...   \n",
            "1  [{'cast_id': 1, 'character': 'Alan Parrish', '...   \n",
            "2  [{'cast_id': 2, 'character': 'Max Goldman', 'c...   \n",
            "3  [{'cast_id': 1, 'character': \"Savannah 'Vannah...   \n",
            "4  [{'cast_id': 1, 'character': 'George Banks', '...   \n",
            "\n",
            "                                                crew     id  \n",
            "0  [{'credit_id': '52fe4284c3a36847f8024f49', 'de...    862  \n",
            "1  [{'credit_id': '52fe44bfc3a36847f80a7cd1', 'de...   8844  \n",
            "2  [{'credit_id': '52fe466a9251416c75077a89', 'de...  15602  \n",
            "3  [{'credit_id': '52fe44779251416c91011acb', 'de...  31357  \n",
            "4  [{'credit_id': '52fe44959251416c75039ed7', 'de...  11862  \n",
            "      id                                           keywords\n",
            "0    862  [{'id': 931, 'name': 'jealousy'}, {'id': 4290,...\n",
            "1   8844  [{'id': 10090, 'name': 'board game'}, {'id': 1...\n",
            "2  15602  [{'id': 1495, 'name': 'fishing'}, {'id': 12392...\n",
            "3  31357  [{'id': 818, 'name': 'based on novel'}, {'id':...\n",
            "4  11862  [{'id': 1009, 'name': 'baby'}, {'id': 1599, 'n...\n"
          ]
        }
      ]
    },
    {
      "cell_type": "markdown",
      "source": [
        " Clean dat: delete useless column"
      ],
      "metadata": {
        "id": "2mqRWSGyV9uN"
      }
    },
    {
      "cell_type": "code",
      "source": [
        "movies = movies.drop(['homepage', 'poster_path', 'tagline'], axis=1)"
      ],
      "metadata": {
        "id": "F7AclGCI3i49"
      },
      "execution_count": 20,
      "outputs": []
    },
    {
      "cell_type": "markdown",
      "source": [
        "Separate all released movies from other movies"
      ],
      "metadata": {
        "id": "wMSCm8LUXuiw"
      }
    },
    {
      "cell_type": "code",
      "source": [
        "print(movies['status'].unique())"
      ],
      "metadata": {
        "colab": {
          "base_uri": "https://localhost:8080/"
        },
        "id": "q6Jb3NQZWRBq",
        "outputId": "54803e50-9f26-4a48-8b01-003f9f6e3782"
      },
      "execution_count": 21,
      "outputs": [
        {
          "output_type": "stream",
          "name": "stdout",
          "text": [
            "['Released' nan 'Rumored' 'Post Production' 'In Production' 'Planned'\n",
            " 'Canceled']\n"
          ]
        }
      ]
    },
    {
      "cell_type": "code",
      "source": [
        "released_movies = movies[movies['status'] == 'Released'].copy()\n",
        "other_movies = movies[movies['status'] != 'Released'].copy()\n",
        "\n",
        "print(\"Released movies:\", released_movies.shape)\n",
        "print(\"Other movies:\", other_movies.shape)"
      ],
      "metadata": {
        "colab": {
          "base_uri": "https://localhost:8080/"
        },
        "id": "_ccSlqEAXifg",
        "outputId": "82453bb9-0c69-4de5-fe47-d25d5e4c95c6"
      },
      "execution_count": 22,
      "outputs": [
        {
          "output_type": "stream",
          "name": "stdout",
          "text": [
            "Released movies: (45014, 21)\n",
            "Other movies: (452, 21)\n"
          ]
        }
      ]
    },
    {
      "cell_type": "markdown",
      "source": [
        "Basic Statistics:\n",
        "1.  How has the number of movies released each year changed?\n",
        "\n",
        "\n",
        "* Convert release_date to date format (set invalid values to NaT)\n",
        "* Delete invalid dates\n",
        "* Extract release_year\n",
        "* Number of movies by year\n",
        "* Visualization\n",
        "\n",
        "\n",
        "\n",
        "\n",
        "\n",
        "\n",
        "\n"
      ],
      "metadata": {
        "id": "Nhq9eYFtYFNM"
      }
    },
    {
      "cell_type": "code",
      "source": [
        "# Convert release_date to date format (invalid formats will become NaT)\n",
        "released_movies['release_date'] = pd.to_datetime(released_movies['release_date'], errors='coerce')\n",
        "\n",
        "# check how many dates are invaild\n",
        "original_count = len(released_movies)\n",
        "released_movies = released_movies.dropna(subset=['release_date'])\n",
        "cleaned_count = len(released_movies)\n",
        "print(f\"Removed {original_count - cleaned_count} rows with invalid release_date.\")\n",
        "\n",
        "# Extract year\n",
        "released_movies['release_year'] = released_movies['release_date'].dt.year\n",
        "print(released_movies[['title', 'release_year']].head())\n",
        "\n",
        "# Number of movies by year\n",
        "movies_per_year = released_movies.groupby('release_year').size()\n",
        "print(movies_per_year.head())\n",
        "min_year = released_movies['release_year'].min()\n",
        "max_year = released_movies['release_year'].max()\n",
        "print(f\"Movies year range: {min_year} - {max_year}\")\n",
        "\n",
        "# Draw line graph\n",
        "plt.figure(figsize=(12,6))\n",
        "movies_per_year.plot(kind='line')\n",
        "plt.title(\"Number of Movies Released Each Year\")\n",
        "plt.xlabel(\"Year\")\n",
        "plt.ylabel(\"Number of Movies\")\n",
        "plt.grid(True)\n",
        "plt.show()"
      ],
      "metadata": {
        "colab": {
          "base_uri": "https://localhost:8080/",
          "height": 726
        },
        "id": "2pIwTso8YEv9",
        "outputId": "b65d6016-c4af-40a1-9497-4e63afbd7583"
      },
      "execution_count": 23,
      "outputs": [
        {
          "output_type": "stream",
          "name": "stdout",
          "text": [
            "Removed 78 rows with invalid release_date.\n",
            "                         title  release_year\n",
            "0                    Toy Story          1995\n",
            "1                      Jumanji          1995\n",
            "2             Grumpier Old Men          1995\n",
            "3            Waiting to Exhale          1995\n",
            "4  Father of the Bride Part II          1995\n",
            "release_year\n",
            "1874    1\n",
            "1878    1\n",
            "1883    1\n",
            "1887    1\n",
            "1888    2\n",
            "dtype: int64\n",
            "Movies year range: 1874 - 2017\n"
          ]
        },
        {
          "output_type": "display_data",
          "data": {
            "text/plain": [
              "<Figure size 1200x600 with 1 Axes>"
            ],
            "image/png": "[encoded data removed]"
          },
          "metadata": {}
        }
      ]
    },
    {
      "cell_type": "markdown",
      "source": [
        "2.  What is the average runtime for movies in different genres?"
      ],
      "metadata": {
        "id": "ka8F6YeVlemv"
      }
    },
    {
      "cell_type": "code",
      "source": [
        "released_movies_runtime = movies[movies['status'] == 'Released'].copy()\n",
        "released_movies['runtime'] = pd.to_numeric(released_movies['runtime'], errors='coerce')\n",
        "# Clean up movies with illegal runtime\n",
        "released_movies = released_movies[released_movies['runtime'] > 0]\n",
        "\n",
        "# Define the function and convert genres into strings\n",
        "def getname(x):\n",
        "    a = []\n",
        "    for i in x:\n",
        "        a.append(i['name'])\n",
        "    return ','.join(a)\n",
        "\n",
        "# String → Python object, extract \"name\"\n",
        "released_movies['genres'] = released_movies['genres'].apply(ast.literal_eval)\n",
        "released_movies['genres'] = released_movies['genres'].apply(getname)\n",
        "\n",
        "# Split the type string of each movie into a list and expand it\n",
        "released_movies['genre'] = released_movies['genres'].str.split(',')\n",
        "released_movies = released_movies.explode('genre')\n",
        "\n",
        "# Remove empty strings\n",
        "released_movies['genre'] = released_movies['genre'].str.strip()\n",
        "released_movies = released_movies[released_movies['genre'] != '']\n",
        "\n",
        "num_genres = released_movies['genre'].nunique()\n",
        "print(f\"Number of unique genres: {num_genres}\")\n",
        "\n",
        "# Calculate average runtiime by 'genre'\n",
        "avg_runtime = released_movies.groupby('genre')['runtime'].mean()\n",
        "print(\"Average runtime (minutes) by genre:\")\n",
        "print(avg_runtime)\n"
      ],
      "metadata": {
        "colab": {
          "base_uri": "https://localhost:8080/"
        },
        "id": "zJOYjD0_leJQ",
        "outputId": "e3fd99a3-708b-47b8-d3b4-212c03012c93"
      },
      "execution_count": 24,
      "outputs": [
        {
          "output_type": "stream",
          "name": "stdout",
          "text": [
            "Number of unique genres: 20\n",
            "Average runtime (minutes) by genre:\n",
            "genre\n",
            "Action             102.697884\n",
            "Adventure          103.056124\n",
            "Animation           65.155638\n",
            "Comedy              94.425949\n",
            "Crime              101.534679\n",
            "Documentary         90.373623\n",
            "Drama              105.131349\n",
            "Family              89.278297\n",
            "Fantasy             95.215678\n",
            "Foreign            105.001313\n",
            "History            126.285819\n",
            "Horror              91.273405\n",
            "Music              100.898653\n",
            "Mystery             99.925342\n",
            "Romance            104.336900\n",
            "Science Fiction     95.454209\n",
            "TV Movie            96.936200\n",
            "Thriller           100.521768\n",
            "War                114.006923\n",
            "Western             98.844727\n",
            "Name: runtime, dtype: float64\n"
          ]
        }
      ]
    },
    {
      "cell_type": "markdown",
      "source": [
        "Financial Analysis\n",
        "\n",
        "1.   What are the revenue differences between high-budget and low-budget movies?\n"
      ],
      "metadata": {
        "id": "bFxf14dAF2dr"
      }
    },
    {
      "cell_type": "markdown",
      "source": [
        "2.   What objective factors influence movie revenue?\n"
      ],
      "metadata": {
        "id": "N-83iWGlHL1C"
      }
    }
  ]
}